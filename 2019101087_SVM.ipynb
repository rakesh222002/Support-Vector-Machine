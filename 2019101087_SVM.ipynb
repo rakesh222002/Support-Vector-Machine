{
  "nbformat": 4,
  "nbformat_minor": 0,
  "metadata": {
    "colab": {
      "name": "SVM.ipynb",
      "provenance": [],
      "collapsed_sections": []
    },
    "kernelspec": {
      "display_name": "Python 3 (ipykernel)",
      "language": "python",
      "name": "python3"
    },
    "language_info": {
      "codemirror_mode": {
        "name": "ipython",
        "version": 3
      },
      "file_extension": ".py",
      "mimetype": "text/x-python",
      "name": "python",
      "nbconvert_exporter": "python",
      "pygments_lexer": "ipython3",
      "version": "3.8.10"
    }
  },
  "cells": [
    {
      "cell_type": "markdown",
      "metadata": {
        "id": "KFqwgxfkI9qG"
      },
      "source": [
        "# Support Vector Machines\n",
        "\n",
        "In this section of the assignment, you will get to implement Support Vector Machines which are among the best (and many believe are indeed the best) “off-the-shelf” supervised learning algorithm.\n",
        "\n",
        "This section is further divided into 3 subsections.\n",
        "\n",
        "\n",
        "*   In the first subsection, you will work on a synthetic dataset and visualize the boundary predicted by SVM. You will also vary the value of C-parameter and see how the decision boundary changes. **Please note that you cannot use inbuilt sklearn function for SVM in this sub-section**. You can only use a QCQP (Quadratically Constrained Quadratic Program) solver like CVXPY. \n",
        "\n",
        "  References which you may find helpful for this subsection: \n",
        "  \n",
        "  1.   https://www.cvxpy.org/\n",
        "  2.   https://www.cvxpy.org/examples/basic/quadratic_program.html\n",
        "\n",
        "  Note that in this section you are expected to show how you derived the Quadratically Constrained form(which can be passed into the solver) from the basic principles of SVM algorithm\n",
        "*  In the next subsection you will use be using the famous MNIST dataset to explore various kernels and report the results. **Please note you may use inbuilt sklearn SVM functions in this subsection**\n"
      ]
    },
    {
      "cell_type": "code",
      "metadata": {
        "id": "Ub9ArRIDI9qR",
        "colab": {
          "base_uri": "https://localhost:8080/"
        },
        "outputId": "6f332062-6cbd-4a59-97cd-193552233c50"
      },
      "source": [
        "!pip install numpy\n",
        "!pip install matplotlib\n",
        "!pip install cvxpy\n",
        "import numpy as np\n",
        "import cvxpy as cp\n",
        "import matplotlib.pyplot as plt"
      ],
      "execution_count": 1,
      "outputs": [
        {
          "output_type": "stream",
          "name": "stdout",
          "text": [
            "Requirement already satisfied: numpy in /usr/local/lib/python3.7/dist-packages (1.19.5)\n",
            "Requirement already satisfied: matplotlib in /usr/local/lib/python3.7/dist-packages (3.2.2)\n",
            "Requirement already satisfied: pyparsing!=2.0.4,!=2.1.2,!=2.1.6,>=2.0.1 in /usr/local/lib/python3.7/dist-packages (from matplotlib) (3.0.6)\n",
            "Requirement already satisfied: kiwisolver>=1.0.1 in /usr/local/lib/python3.7/dist-packages (from matplotlib) (1.3.2)\n",
            "Requirement already satisfied: cycler>=0.10 in /usr/local/lib/python3.7/dist-packages (from matplotlib) (0.11.0)\n",
            "Requirement already satisfied: python-dateutil>=2.1 in /usr/local/lib/python3.7/dist-packages (from matplotlib) (2.8.2)\n",
            "Requirement already satisfied: numpy>=1.11 in /usr/local/lib/python3.7/dist-packages (from matplotlib) (1.19.5)\n",
            "Requirement already satisfied: six>=1.5 in /usr/local/lib/python3.7/dist-packages (from python-dateutil>=2.1->matplotlib) (1.15.0)\n",
            "Requirement already satisfied: cvxpy in /usr/local/lib/python3.7/dist-packages (1.0.31)\n",
            "Requirement already satisfied: scipy>=1.1.0 in /usr/local/lib/python3.7/dist-packages (from cvxpy) (1.4.1)\n",
            "Requirement already satisfied: ecos>=2 in /usr/local/lib/python3.7/dist-packages (from cvxpy) (2.0.7.post1)\n",
            "Requirement already satisfied: scs>=1.1.3 in /usr/local/lib/python3.7/dist-packages (from cvxpy) (2.1.4)\n",
            "Requirement already satisfied: numpy>=1.15 in /usr/local/lib/python3.7/dist-packages (from cvxpy) (1.19.5)\n",
            "Requirement already satisfied: multiprocess in /usr/local/lib/python3.7/dist-packages (from cvxpy) (0.70.12.2)\n",
            "Requirement already satisfied: osqp>=0.4.1 in /usr/local/lib/python3.7/dist-packages (from cvxpy) (0.6.2.post0)\n",
            "Requirement already satisfied: qdldl in /usr/local/lib/python3.7/dist-packages (from osqp>=0.4.1->cvxpy) (0.1.5.post0)\n",
            "Requirement already satisfied: dill>=0.3.4 in /usr/local/lib/python3.7/dist-packages (from multiprocess->cvxpy) (0.3.4)\n"
          ]
        }
      ]
    },
    {
      "cell_type": "markdown",
      "metadata": {
        "id": "GasJBLV5I9qf"
      },
      "source": [
        "### Subsection 1"
      ]
    },
    {
      "cell_type": "code",
      "metadata": {
        "id": "eulkE0pTI9qg"
      },
      "source": [
        "# Feel free to use this helper function to visualize 2D points X with labels +1 or -1\n",
        "def plot_points(X, Y):\n",
        "    reds = []\n",
        "    blues = []\n",
        "    for i in range(Y.shape[0]):\n",
        "        if Y[i] == 1:\n",
        "            reds.append(X[i])\n",
        "        else:\n",
        "            blues.append(X[i])\n",
        "    reds = np.array(reds)\n",
        "    blues = np.array(blues)\n",
        "    plt.scatter(reds[:, 0], reds[:, 1], c = 'r')\n",
        "    plt.scatter(blues[:, 0], blues[:, 1], c = 'b')"
      ],
      "execution_count": 2,
      "outputs": []
    },
    {
      "cell_type": "code",
      "metadata": {
        "id": "rpWOqtHjI9qi",
        "colab": {
          "base_uri": "https://localhost:8080/",
          "height": 265
        },
        "outputId": "f03bfcff-aa81-4aff-a20b-69a442141f8f"
      },
      "source": [
        "# Create Synthetic Data and visualize the points\n",
        "X = np.array([[-3.5, -1], [-3, 0], [-3, 1], [-2.7, -1.3], [-2, -1], [-2, -2.7], \n",
        "              [-1, -2.5], [0, -3], [-1.1, 0], [0, 2.5], [1, 2], [0.7, 4], \n",
        "              [2.1, 0.2], [2.3, 1], [2.8, 1.8], [2.2, 2.8]])\n",
        "y = np.array([1, 1, 1, 1, 1, 1, 1, 1, -1, -1, -1, -1, -1, -1, -1, -1])\n",
        "\n",
        "plot_points(X, y)\n",
        "plt.show()"
      ],
      "execution_count": 3,
      "outputs": [
        {
          "output_type": "display_data",
          "data": {
            "image/png": "[encoded data removed]",
            "text/plain": [
              "<Figure size 432x288 with 1 Axes>"
            ]
          },
          "metadata": {
            "needs_background": "light"
          }
        }
      ]
    },
    {
      "cell_type": "markdown",
      "metadata": {
        "id": "qkXWnVMuI9qk"
      },
      "source": [
        "In the next cell you are required to derive the Quadratic Constrained Quadratic form of SVM **without soft constraints** from the basic principles. Start with the idea that SVM tries to maximize the margin and then derive the form which you can feed to the solver.\n",
        "\n",
        "Please print the values of w, b. \n",
        "\n",
        "**Note: You are also required to upload a page of the derivation. You may also type it in markdown here.**<br>\n",
        "w.T@X + b = 0 is the decision boundary.<br>\n",
        "Then the margins will be<br>\n",
        "w.T@X + b = -1, (w.T@X + b <= -1 for class A with label -1) and <br>\n",
        "w.T@X + b = +1, (w.T@X + b >= 1 for class B with label +1)<br>\n",
        "Generalisation gives y * (w.T @ X[i] + b) >= 1 as a constraint for the points.<br>\n",
        "We have to maximize the distance between margins so distance between margins d = ((1-b) - (-b-1))/root(w)<br>\n",
        "so we have to maximize d = 2/root(w)<br>\n",
        "i.e we have to minimize its inverse q = root(w)/2 with constraint y * (w.T @ X[i] + b) >= 1\n",
        "\n",
        "**Note: You cannot use sklearn SVM functions here.**"
      ]
    },
    {
      "cell_type": "code",
      "metadata": {
        "id": "cL-jVJH8I9ql",
        "colab": {
          "base_uri": "https://localhost:8080/"
        },
        "outputId": "36196fb6-0cc1-484c-e647-29a0002f6694"
      },
      "source": [
        "# Write your code here\n",
        "def svm_softconstraints(X, y):\n",
        "    w = cp.Variable((X.shape[1], 1))\n",
        "    b = cp.Variable()\n",
        "\n",
        "    obj = cp.Minimize(cp.norm(w,2))\n",
        "    constraints = [y[i]*(w.T @ X[i] + b) >= 1 for i in range(0, len(X))]\n",
        "    prob = cp.Problem(obj, constraints)\n",
        "    prob.solve()\n",
        "    return [w.value, b.value]\n",
        "w, b = svm_softconstraints(X, y)\n",
        "print(w, \"\\t\", b)"
      ],
      "execution_count": 4,
      "outputs": [
        {
          "output_type": "stream",
          "name": "stdout",
          "text": [
            "[[-1.73913043]\n",
            " [-1.30434783]] \t -2.9130434783188317\n"
          ]
        }
      ]
    },
    {
      "cell_type": "markdown",
      "metadata": {
        "id": "E1qoXcdDI9qm"
      },
      "source": [
        "In the next cell you are required to visualize the boundary predicted by the solver. You may want to revise up on how to plot the a line given w, b. Please plot w vector as well as the margin lines\n",
        "\n",
        "You may want to create a function to plot the line of separation as you would require this frequently in the subsequent parts of the assignment."
      ]
    },
    {
      "cell_type": "code",
      "metadata": {
        "id": "X3271BtYI9qo",
        "colab": {
          "base_uri": "https://localhost:8080/",
          "height": 265
        },
        "outputId": "a8965577-5ece-4edb-833e-856ea0b0256c"
      },
      "source": [
        "# Write your code here\n",
        "def plotline(slope, intercept):\n",
        "    axes = plt.gca()\n",
        "    exX = np.array(axes.get_xlim())\n",
        "    exY = intercept + slope * exX\n",
        "    plt.plot(exX, exY, '-')\n",
        "\n",
        "plot_points(X, y)\n",
        "plotline(-(w[0]/w[1]), -(b)/w[1])\n"
      ],
      "execution_count": 5,
      "outputs": [
        {
          "output_type": "display_data",
          "data": {
            "image/png": "[encoded data removed]",
            "text/plain": [
              "<Figure size 432x288 with 1 Axes>"
            ]
          },
          "metadata": {
            "needs_background": "light"
          }
        }
      ]
    },
    {
      "cell_type": "markdown",
      "metadata": {
        "id": "NnSqBDqqI9qp"
      },
      "source": [
        "In the next cell please plot only the support vectors along with the boundary, w vector, and margins. \n",
        "\n",
        "**Note: You are not supposed to hard-code the points here.**"
      ]
    },
    {
      "cell_type": "code",
      "metadata": {
        "id": "wPBNQB-DI9qq",
        "colab": {
          "base_uri": "https://localhost:8080/",
          "height": 265
        },
        "outputId": "04aac5dc-2f59-4706-9a7d-85e09505e4b4"
      },
      "source": [
        "# Write your code here\n",
        "sv_x = []\n",
        "sv_y = []\n",
        "for i in range(0, len(X)):\n",
        "    t = (np.dot(w.T,X[i]) + b)\n",
        "    if(abs(t[0] + 1.0) < 0.001) or (abs(t[0] - 1.0) < 0.001):\n",
        "        sv_x.append(X[i])\n",
        "        sv_y.append(y[i])\n",
        "plot_points(np.array(sv_x), np.array(sv_y))\n",
        "plotline(-(w[0]/w[1]), -(b)/w[1])\n",
        "plotline(-(w[0]/w[1]), -(1+b)/w[1])\n",
        "plotline(-(w[0]/w[1]), -(-1+b)/w[1])\n",
        "plt.show()"
      ],
      "execution_count": 6,
      "outputs": [
        {
          "output_type": "display_data",
          "data": {
            "image/png": "[encoded data removed]",
            "text/plain": [
              "<Figure size 432x288 with 1 Axes>"
            ]
          },
          "metadata": {
            "needs_background": "light"
          }
        }
      ]
    },
    {
      "cell_type": "markdown",
      "metadata": {
        "id": "x0Kso1FfI9qs"
      },
      "source": [
        "In the next cell add the following points:\n",
        "* (-4, -10) with label 1\n",
        "* (4, 4) with label -1\n",
        "\n",
        "Is the decision boundary changed after adding the points? Explain your observations theoretically."
      ]
    },
    {
      "cell_type": "code",
      "metadata": {
        "id": "m4V4ea1-I9qs",
        "colab": {
          "base_uri": "https://localhost:8080/",
          "height": 265
        },
        "outputId": "96bfb101-340d-415b-ec29-da406837a0a0"
      },
      "source": [
        "# Re-create the Synthetic Data by adding the points and visualize the points\n",
        "X = X.tolist()\n",
        "y = y.tolist()\n",
        "X.append([-4, -10])\n",
        "y.append(1)\n",
        "X.append([4, 4])\n",
        "y.append(-1)\n",
        "X = np.array(X)\n",
        "y = np.array(y)\n",
        "plot_points(X, y)\n",
        "plt.show()"
      ],
      "execution_count": 7,
      "outputs": [
        {
          "output_type": "display_data",
          "data": {
            "image/png": "[encoded data removed]",
            "text/plain": [
              "<Figure size 432x288 with 1 Axes>"
            ]
          },
          "metadata": {
            "needs_background": "light"
          }
        }
      ]
    },
    {
      "cell_type": "code",
      "metadata": {
        "id": "sW93Z-FiI9qt",
        "colab": {
          "base_uri": "https://localhost:8080/",
          "height": 300
        },
        "outputId": "2924318e-b4a0-43c7-f93e-6287be0a72d1"
      },
      "source": [
        "# Solve for the decision boundary using this modified dataset\n",
        "w, b = svm_softconstraints(X, y)\n",
        "print(w, \"\\t\", b)\n",
        "plot_points(X, y)\n",
        "plotline(-(w[0]/w[1]), -(b)/w[1])\n",
        "plotline(-(w[0]/w[1]), -(1+b)/w[1])\n",
        "plotline(-(w[0]/w[1]), -(-1+b)/w[1])\n",
        "plt.show()"
      ],
      "execution_count": 8,
      "outputs": [
        {
          "output_type": "stream",
          "name": "stdout",
          "text": [
            "[[-1.73913044]\n",
            " [-1.30434783]] \t -2.9130434790774022\n"
          ]
        },
        {
          "output_type": "display_data",
          "data": {
            "image/png": "[encoded data removed]",
            "text/plain": [
              "<Figure size 432x288 with 1 Axes>"
            ]
          },
          "metadata": {
            "needs_background": "light"
          }
        }
      ]
    },
    {
      "cell_type": "markdown",
      "metadata": {
        "id": "AiepQDo3I9qu"
      },
      "source": [
        "In the next cell you are required to modify your framing of optimisation problem to incorporate soft constraints also known as slack. Plot the decision boundary, w and margin lines for various values of C: $0.01$, $0.1$, $3$, $10$, $100$.\n",
        "\n",
        "Explain your results theoretically. How does the boundary change with varying values of C? Why?\n",
        "\n",
        "**Note: Use the modified X and y i.e after adding points in previous cell.**"
      ]
    },
    {
      "cell_type": "code",
      "metadata": {
        "id": "TVEix42nI9qu",
        "colab": {
          "base_uri": "https://localhost:8080/",
          "height": 300
        },
        "outputId": "f4231f5d-b5c6-44ee-c198-0394842cfc17"
      },
      "source": [
        "# Write your code here for C= 0.01\n",
        "def svm_with_slack(X, y, C):\n",
        "    ep = cp.Variable(len(X))\n",
        "    w = cp.Variable((X.shape[1], 1))\n",
        "    b = cp.Variable()\n",
        "    obj = cp.Minimize(0.5*cp.norm(w,2)**2 + C*cp.sum(ep))\n",
        "    constraints = [y[i]*(w.T @ X[i] + b) + ep[i]  >= 1 for i in range(0, len(X))]\n",
        "    constraints += [ep[i]>=0 for i in range(len(y))]\n",
        "    prob = cp.Problem(obj, constraints)\n",
        "    prob.solve()\n",
        "    return [w.value, b.value]\n",
        "\n",
        "C = 0.01    \n",
        "w, b = svm_with_slack(X, y, C)\n",
        "print(w, \"\\t\", b)\n",
        "plot_points(X, y)\n",
        "plotline(-(w[0]/w[1]), -(b)/w[1])\n",
        "plotline(-(w[0]/w[1]), -(1+b)/w[1])\n",
        "plotline(-(w[0]/w[1]), -(-1+b)/w[1])\n",
        "plt.show()"
      ],
      "execution_count": 9,
      "outputs": [
        {
          "output_type": "stream",
          "name": "stdout",
          "text": [
            "[[-0.22506809]\n",
            " [-0.19858949]] \t 0.013672204267370152\n"
          ]
        },
        {
          "output_type": "display_data",
          "data": {
            "image/png": "[encoded data removed]",
            "text/plain": [
              "<Figure size 432x288 with 1 Axes>"
            ]
          },
          "metadata": {
            "needs_background": "light"
          }
        }
      ]
    },
    {
      "cell_type": "code",
      "metadata": {
        "id": "f8tdPNMAI9qv",
        "colab": {
          "base_uri": "https://localhost:8080/",
          "height": 300
        },
        "outputId": "4ab6e822-dc43-4a83-e8c0-bbc1ddd5395b"
      },
      "source": [
        "# Write your code here for C= 0.1\n",
        "C = 0.1   \n",
        "w, b = svm_with_slack(X, y, C)\n",
        "print(w, \"\\t\", b)\n",
        "plot_points(X, y)\n",
        "plotline(-(w[0]/w[1]), -(b)/w[1])\n",
        "plotline(-(w[0]/w[1]), -(1+b)/w[1])\n",
        "plotline(-(w[0]/w[1]), -(-1+b)/w[1])\n",
        "plt.show()"
      ],
      "execution_count": 10,
      "outputs": [
        {
          "output_type": "stream",
          "name": "stdout",
          "text": [
            "[[-0.38493724]\n",
            " [-0.35146444]] \t -0.12133891201898916\n"
          ]
        },
        {
          "output_type": "display_data",
          "data": {
            "image/png": "[encoded data removed]",
            "text/plain": [
              "<Figure size 432x288 with 1 Axes>"
            ]
          },
          "metadata": {
            "needs_background": "light"
          }
        }
      ]
    },
    {
      "cell_type": "code",
      "metadata": {
        "id": "Xf5hfxRRI9qw",
        "colab": {
          "base_uri": "https://localhost:8080/",
          "height": 300
        },
        "outputId": "1a903ac6-b144-4592-fe1a-437d4f758234"
      },
      "source": [
        "# Write your code here for C= 3\n",
        "C = 3 \n",
        "w, b = svm_with_slack(X, y, C)\n",
        "print(w, \"\\t\", b)\n",
        "plot_points(X, y)\n",
        "plotline(-(w[0]/w[1]), -(b)/w[1])\n",
        "plotline(-(w[0]/w[1]), -(1+b)/w[1])\n",
        "plotline(-(w[0]/w[1]), -(-1+b)/w[1])\n",
        "plt.show()"
      ],
      "execution_count": 11,
      "outputs": [
        {
          "output_type": "stream",
          "name": "stdout",
          "text": [
            "[[-1.73913043]\n",
            " [-1.30434783]] \t -2.9130434782869634\n"
          ]
        },
        {
          "output_type": "display_data",
          "data": {
            "image/png": "[encoded data removed]",
            "text/plain": [
              "<Figure size 432x288 with 1 Axes>"
            ]
          },
          "metadata": {
            "needs_background": "light"
          }
        }
      ]
    },
    {
      "cell_type": "code",
      "metadata": {
        "id": "qecGoXdnI9qx",
        "colab": {
          "base_uri": "https://localhost:8080/",
          "height": 300
        },
        "outputId": "9c74ceff-a7c2-4074-f2f3-8814ecc71996"
      },
      "source": [
        "# Write your code here for C= 10\n",
        "C = 10\n",
        "w, b = svm_with_slack(X, y, C)\n",
        "print(w, \"\\t\", b)\n",
        "plot_points(X, y)\n",
        "plotline(-(w[0]/w[1]), -(b)/w[1])\n",
        "plotline(-(w[0]/w[1]), -(1+b)/w[1])\n",
        "plotline(-(w[0]/w[1]), -(-1+b)/w[1])\n",
        "plt.show()"
      ],
      "execution_count": 12,
      "outputs": [
        {
          "output_type": "stream",
          "name": "stdout",
          "text": [
            "[[-1.73913043]\n",
            " [-1.30434783]] \t -2.9130434783574235\n"
          ]
        },
        {
          "output_type": "display_data",
          "data": {
            "image/png": "[encoded data removed]",
            "text/plain": [
              "<Figure size 432x288 with 1 Axes>"
            ]
          },
          "metadata": {
            "needs_background": "light"
          }
        }
      ]
    },
    {
      "cell_type": "code",
      "metadata": {
        "id": "cO3_kVe9I9qy",
        "colab": {
          "base_uri": "https://localhost:8080/",
          "height": 300
        },
        "outputId": "0da4cb51-e09f-45d0-a837-c79d8c76ba6b"
      },
      "source": [
        "# Write your code here for C= 100\n",
        "C = 100  \n",
        "w, b = svm_with_slack(X, y, C)\n",
        "print(w, \"\\t\", b)\n",
        "plot_points(X, y)\n",
        "plotline(-(w[0]/w[1]), -(b)/w[1])\n",
        "plotline(-(w[0]/w[1]), -(1+b)/w[1])\n",
        "plotline(-(w[0]/w[1]), -(-1+b)/w[1])\n",
        "plt.show()"
      ],
      "execution_count": 13,
      "outputs": [
        {
          "output_type": "stream",
          "name": "stdout",
          "text": [
            "[[-1.73913044]\n",
            " [-1.30434783]] \t -2.9130434786825745\n"
          ]
        },
        {
          "output_type": "display_data",
          "data": {
            "image/png": "[encoded data removed]",
            "text/plain": [
              "<Figure size 432x288 with 1 Axes>"
            ]
          },
          "metadata": {
            "needs_background": "light"
          }
        }
      ]
    },
    {
      "cell_type": "markdown",
      "metadata": {
        "id": "K7crSrYuI9qy"
      },
      "source": [
        "Take the case of C = 100 and remove the support vectors. Does the boundary change after the deletion?\n",
        "Explain why? Show your results by appropriate plots?<br>\n",
        "Ans) The boundary is changing. After removing the support vectors the updated current vectors become further apart, so the classification is expanded."
      ]
    },
    {
      "cell_type": "code",
      "metadata": {
        "id": "DxC0xdsEI9qz",
        "colab": {
          "base_uri": "https://localhost:8080/",
          "height": 300
        },
        "outputId": "145038b5-6359-4fdb-c033-033db8ed87ee"
      },
      "source": [
        "# Write your Code here\n",
        "spv_ind = []\n",
        "sv_x = []\n",
        "sv_y = []\n",
        "for i in range(0, len(X)):\n",
        "    t = (np.dot(w.T,X[i]) + b)\n",
        "    if(abs(t[0] + 1.0) < 0.01) or (abs(t[0] - 1.0) < 0.01):\n",
        "      continue\n",
        "    else:\n",
        "        sv_x.append(X[i])\n",
        "        sv_y.append(y[i])\n",
        "X_dash = sv_x\n",
        "y_dash = sv_y\n",
        "\n",
        "X_dash = np.array(X_dash)\n",
        "y_dash = np.array(y_dash)\n",
        "C = 100\n",
        "w, b = svm_with_slack(X_dash, y_dash, C)\n",
        "print(w, \"\\t\", b)\n",
        "plot_points(X, y)\n",
        "plotline(-(w[0]/w[1]), -(b)/w[1])\n",
        "plotline(-(w[0]/w[1]), -(1+b)/w[1])\n",
        "plotline(-(w[0]/w[1]), -(-1+b)/w[1])\n",
        "plt.show()"
      ],
      "execution_count": 21,
      "outputs": [
        {
          "output_type": "stream",
          "name": "stdout",
          "text": [
            "[[-0.37735849]\n",
            " [-0.37735849]] \t -0.13207547130275427\n"
          ]
        },
        {
          "output_type": "display_data",
          "data": {
            "image/png": "[encoded data removed]",
            "text/plain": [
              "<Figure size 432x288 with 1 Axes>"
            ]
          },
          "metadata": {
            "needs_background": "light"
          }
        }
      ]
    },
    {
      "cell_type": "markdown",
      "metadata": {
        "id": "7goMP4wFI9q0"
      },
      "source": [
        "### Subsection 2"
      ]
    },
    {
      "cell_type": "code",
      "metadata": {
        "id": "PZdBRpHuI9q0",
        "colab": {
          "base_uri": "https://localhost:8080/"
        },
        "outputId": "ef3c5cf5-68e1-4379-9728-d12433c7e5a5"
      },
      "source": [
        "!pip install python-mnist\n",
        "!rm -rf samples\n",
        "!mkdir samples\n",
        "!wget http://yann.lecun.com/exdb/mnist/train-images-idx3-ubyte.gz -P samples/\n",
        "!gunzip samples/train-images-idx3-ubyte.gz\n",
        "!wget http://yann.lecun.com/exdb/mnist/train-labels-idx1-ubyte.gz -P samples/\n",
        "!gunzip samples/train-labels-idx1-ubyte.gz\n",
        "!wget http://yann.lecun.com/exdb/mnist/t10k-images-idx3-ubyte.gz -P samples/\n",
        "!gunzip samples/t10k-images-idx3-ubyte.gz\n",
        "!wget http://yann.lecun.com/exdb/mnist/t10k-labels-idx1-ubyte.gz -P samples/\n",
        "!gunzip samples/t10k-labels-idx1-ubyte.gz"
      ],
      "execution_count": 15,
      "outputs": [
        {
          "output_type": "stream",
          "name": "stdout",
          "text": [
            "Requirement already satisfied: python-mnist in /usr/local/lib/python3.7/dist-packages (0.7)\n",
            "--2021-12-03 16:55:28--  http://yann.lecun.com/exdb/mnist/train-images-idx3-ubyte.gz\n",
            "Resolving yann.lecun.com (yann.lecun.com)... 172.67.171.76, 104.21.29.36, 2606:4700:3034::6815:1d24, ...\n",
            "Connecting to yann.lecun.com (yann.lecun.com)|172.67.171.76|:80... connected.\n",
            "HTTP request sent, awaiting response... 200 OK\n",
            "Length: 9912422 (9.5M) [application/x-gzip]\n",
            "Saving to: ‘samples/train-images-idx3-ubyte.gz’\n",
            "\n",
            "train-images-idx3-u 100%[===================>]   9.45M  --.-KB/s    in 0.1s    \n",
            "\n",
            "2021-12-03 16:55:28 (94.6 MB/s) - ‘samples/train-images-idx3-ubyte.gz’ saved [9912422/9912422]\n",
            "\n",
            "--2021-12-03 16:55:29--  http://yann.lecun.com/exdb/mnist/train-labels-idx1-ubyte.gz\n",
            "Resolving yann.lecun.com (yann.lecun.com)... 172.67.171.76, 104.21.29.36, 2606:4700:3034::6815:1d24, ...\n",
            "Connecting to yann.lecun.com (yann.lecun.com)|172.67.171.76|:80... connected.\n",
            "HTTP request sent, awaiting response... 200 OK\n",
            "Length: 28881 (28K) [application/x-gzip]\n",
            "Saving to: ‘samples/train-labels-idx1-ubyte.gz’\n",
            "\n",
            "train-labels-idx1-u 100%[===================>]  28.20K  --.-KB/s    in 0s      \n",
            "\n",
            "2021-12-03 16:55:29 (275 MB/s) - ‘samples/train-labels-idx1-ubyte.gz’ saved [28881/28881]\n",
            "\n",
            "--2021-12-03 16:55:29--  http://yann.lecun.com/exdb/mnist/t10k-images-idx3-ubyte.gz\n",
            "Resolving yann.lecun.com (yann.lecun.com)... 172.67.171.76, 104.21.29.36, 2606:4700:3034::6815:1d24, ...\n",
            "Connecting to yann.lecun.com (yann.lecun.com)|172.67.171.76|:80... connected.\n",
            "HTTP request sent, awaiting response... 200 OK\n",
            "Length: 1648877 (1.6M) [application/x-gzip]\n",
            "Saving to: ‘samples/t10k-images-idx3-ubyte.gz’\n",
            "\n",
            "t10k-images-idx3-ub 100%[===================>]   1.57M  --.-KB/s    in 0.05s   \n",
            "\n",
            "2021-12-03 16:55:29 (29.3 MB/s) - ‘samples/t10k-images-idx3-ubyte.gz’ saved [1648877/1648877]\n",
            "\n",
            "--2021-12-03 16:55:29--  http://yann.lecun.com/exdb/mnist/t10k-labels-idx1-ubyte.gz\n",
            "Resolving yann.lecun.com (yann.lecun.com)... 172.67.171.76, 104.21.29.36, 2606:4700:3034::6815:1d24, ...\n",
            "Connecting to yann.lecun.com (yann.lecun.com)|172.67.171.76|:80... connected.\n",
            "HTTP request sent, awaiting response... 200 OK\n",
            "Length: 4542 (4.4K) [application/x-gzip]\n",
            "Saving to: ‘samples/t10k-labels-idx1-ubyte.gz’\n",
            "\n",
            "t10k-labels-idx1-ub 100%[===================>]   4.44K  --.-KB/s    in 0s      \n",
            "\n",
            "2021-12-03 16:55:29 (537 MB/s) - ‘samples/t10k-labels-idx1-ubyte.gz’ saved [4542/4542]\n",
            "\n"
          ]
        }
      ]
    },
    {
      "cell_type": "code",
      "metadata": {
        "id": "0XjsnEzVI9q1"
      },
      "source": [
        "# Import Relevant Packages\n",
        "from sklearn.svm import SVC\n",
        "import numpy as np\n",
        "from mnist.loader import MNIST"
      ],
      "execution_count": 16,
      "outputs": []
    },
    {
      "cell_type": "code",
      "metadata": {
        "id": "WvXDgQXsI9q1",
        "colab": {
          "base_uri": "https://localhost:8080/"
        },
        "outputId": "578dec2d-fcbe-497a-be4c-d4295f7f4a56"
      },
      "source": [
        "mndata = MNIST('samples')\n",
        "\n",
        "# Load training dataset\n",
        "images, labels = mndata.load_training()\n",
        "l = len(labels)\n",
        "images_train = np.array(images)\n",
        "labels_train = np.array(labels)\n",
        "\n",
        "print(images_train.shape)\n",
        "print(labels_train.shape)"
      ],
      "execution_count": 17,
      "outputs": [
        {
          "output_type": "stream",
          "name": "stdout",
          "text": [
            "(60000, 784)\n",
            "(60000,)\n"
          ]
        }
      ]
    },
    {
      "cell_type": "code",
      "metadata": {
        "id": "pqZ5EG36I9q2",
        "colab": {
          "base_uri": "https://localhost:8080/"
        },
        "outputId": "74392664-7297-41be-e95a-e44c476e37c1"
      },
      "source": [
        "# Load testing dataset\n",
        "images, labels = mndata.load_testing()\n",
        "l = len(labels)\n",
        "images_test = np.array(images)\n",
        "labels_test = np.array(labels)\n",
        "\n",
        "print(images_test.shape)\n",
        "print(labels_test.shape)"
      ],
      "execution_count": 18,
      "outputs": [
        {
          "output_type": "stream",
          "name": "stdout",
          "text": [
            "(10000, 784)\n",
            "(10000,)\n"
          ]
        }
      ]
    },
    {
      "cell_type": "markdown",
      "metadata": {
        "id": "N8F6VkaLI9q3"
      },
      "source": [
        "- Tweak different parameters like the C Parameter and gamma parameter of the Linear SVM and report the results.\n",
        "- Experiment different kernels for classification and report the results.\n",
        "\n",
        "Report accuracy score, F1-score, Confusion matrix and any other metrics you feel useful."
      ]
    },
    {
      "cell_type": "code",
      "metadata": {
        "id": "CztJyLokI9q3",
        "colab": {
          "base_uri": "https://localhost:8080/"
        },
        "outputId": "efeafdd3-d35e-42bb-cdb0-fbb015399e10"
      },
      "source": [
        "from sklearn.svm import SVC\n",
        "from sklearn.metrics import confusion_matrix, accuracy_score, classification_report\n",
        "new_labels_train = np.isin(labels_train, [0,1,2])\n",
        "new_labels_test = np.isin(labels_test, [0,1,2])\n",
        "images_train, labels_train = images_train[new_labels_train], labels_train[new_labels_train]\n",
        "images_test, labels_test = images_test[new_labels_test], labels_test[new_labels_test]\n",
        "C = [0.001, 10]\n",
        "for c in C:\n",
        "    classifier = SVC(C = c, kernel = 'linear')\n",
        "    classifier.fit(images_train, labels_train)\n",
        "    y_pred = classifier.predict(images_test)\n",
        "    print(\"Accuracy: \", accuracy_score(labels_test, y_pred))\n",
        "    print(\"confusion matrix for C = \", c)\n",
        "    print(confusion_matrix(labels_test, y_pred))    \n",
        "    print(f\"Classification report for classifier {classifier}:\\n\" f\"{classification_report(labels_test, y_pred)}\\n\")\n",
        "\n",
        "C = [0.001, 10]\n",
        "for c in C:\n",
        "    classifier = SVC(C = c, kernel = 'poly')\n",
        "    classifier.fit(images_train, labels_train)\n",
        "    y_pred = classifier.predict(images_test)\n",
        "    print(\"Accuracy: \", accuracy_score(labels_test, y_pred))\n",
        "    print(\"confusion matrix for C = \", c)\n",
        "    print(confusion_matrix(labels_test, y_pred))    \n",
        "    print(f\"Classification report for classifier {classifier}:\\n\" f\"{classification_report(labels_test, y_pred)}\\n\")\n",
        "\n",
        "C = [0.001, 10]\n",
        "for c in C:\n",
        "    classifier = SVC(C = c, kernel = 'sigmoid')\n",
        "    classifier.fit(images_train, labels_train)\n",
        "    y_pred = classifier.predict(images_test)\n",
        "    print(\"Accuracy: \", accuracy_score(labels_test, y_pred))\n",
        "    print(\"confusion matrix for C = \", c)\n",
        "    print(confusion_matrix(labels_test, y_pred))    \n",
        "    print(f\"Classification report for classifier {classifier}:\\n\" f\"{classification_report(labels_test, y_pred)}\\n\")\n"
      ],
      "execution_count": 19,
      "outputs": [
        {
          "output_type": "stream",
          "name": "stdout",
          "text": [
            "Accuracy:  0.9809342230695901\n",
            "confusion matrix for C =  0.001\n",
            "[[ 971    0    9]\n",
            " [   1 1127    7]\n",
            " [  24   19  989]]\n",
            "Classification report for classifier SVC(C=0.001, kernel='linear'):\n",
            "              precision    recall  f1-score   support\n",
            "\n",
            "           0       0.97      0.99      0.98       980\n",
            "           1       0.98      0.99      0.99      1135\n",
            "           2       0.98      0.96      0.97      1032\n",
            "\n",
            "    accuracy                           0.98      3147\n",
            "   macro avg       0.98      0.98      0.98      3147\n",
            "weighted avg       0.98      0.98      0.98      3147\n",
            "\n",
            "\n",
            "Accuracy:  0.9809342230695901\n",
            "confusion matrix for C =  10\n",
            "[[ 971    0    9]\n",
            " [   1 1127    7]\n",
            " [  24   19  989]]\n",
            "Classification report for classifier SVC(C=10, kernel='linear'):\n",
            "              precision    recall  f1-score   support\n",
            "\n",
            "           0       0.97      0.99      0.98       980\n",
            "           1       0.98      0.99      0.99      1135\n",
            "           2       0.98      0.96      0.97      1032\n",
            "\n",
            "    accuracy                           0.98      3147\n",
            "   macro avg       0.98      0.98      0.98      3147\n",
            "weighted avg       0.98      0.98      0.98      3147\n",
            "\n",
            "\n",
            "Accuracy:  0.7959961868446139\n",
            "confusion matrix for C =  0.001\n",
            "[[ 762  207   11]\n",
            " [   0 1134    1]\n",
            " [  12  411  609]]\n",
            "Classification report for classifier SVC(C=0.001, kernel='poly'):\n",
            "              precision    recall  f1-score   support\n",
            "\n",
            "           0       0.98      0.78      0.87       980\n",
            "           1       0.65      1.00      0.79      1135\n",
            "           2       0.98      0.59      0.74      1032\n",
            "\n",
            "    accuracy                           0.80      3147\n",
            "   macro avg       0.87      0.79      0.80      3147\n",
            "weighted avg       0.86      0.80      0.80      3147\n",
            "\n",
            "\n",
            "Accuracy:  0.9939625039720369\n",
            "confusion matrix for C =  10\n",
            "[[ 976    1    3]\n",
            " [   0 1131    4]\n",
            " [   8    3 1021]]\n",
            "Classification report for classifier SVC(C=10, kernel='poly'):\n",
            "              precision    recall  f1-score   support\n",
            "\n",
            "           0       0.99      1.00      0.99       980\n",
            "           1       1.00      1.00      1.00      1135\n",
            "           2       0.99      0.99      0.99      1032\n",
            "\n",
            "    accuracy                           0.99      3147\n",
            "   macro avg       0.99      0.99      0.99      3147\n",
            "weighted avg       0.99      0.99      0.99      3147\n",
            "\n",
            "\n",
            "Accuracy:  0.925007944073721\n",
            "confusion matrix for C =  0.001\n",
            "[[ 958    2   20]\n",
            " [   0 1130    5]\n",
            " [  41  168  823]]\n",
            "Classification report for classifier SVC(C=0.001, kernel='sigmoid'):\n",
            "              precision    recall  f1-score   support\n",
            "\n",
            "           0       0.96      0.98      0.97       980\n",
            "           1       0.87      1.00      0.93      1135\n",
            "           2       0.97      0.80      0.88      1032\n",
            "\n",
            "    accuracy                           0.93      3147\n",
            "   macro avg       0.93      0.92      0.92      3147\n",
            "weighted avg       0.93      0.93      0.92      3147\n",
            "\n",
            "\n",
            "Accuracy:  0.9380362249761678\n",
            "confusion matrix for C =  10\n",
            "[[ 931    1   48]\n",
            " [   1 1093   41]\n",
            " [  55   49  928]]\n",
            "Classification report for classifier SVC(C=10, kernel='sigmoid'):\n",
            "              precision    recall  f1-score   support\n",
            "\n",
            "           0       0.94      0.95      0.95       980\n",
            "           1       0.96      0.96      0.96      1135\n",
            "           2       0.91      0.90      0.91      1032\n",
            "\n",
            "    accuracy                           0.94      3147\n",
            "   macro avg       0.94      0.94      0.94      3147\n",
            "weighted avg       0.94      0.94      0.94      3147\n",
            "\n",
            "\n"
          ]
        }
      ]
    }
  ]
}